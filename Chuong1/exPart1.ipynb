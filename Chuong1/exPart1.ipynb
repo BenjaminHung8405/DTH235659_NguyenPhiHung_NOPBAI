{
 "cells": [
  {
   "cell_type": "code",
   "execution_count": 6,
   "id": "34efa1c8",
   "metadata": {},
   "outputs": [
    {
     "name": "stdout",
     "output_type": "stream",
     "text": [
      "albert einstein da tung noi: mot nguoi khong bao gio mac sai lam khong bao gio thu bat ki dieu gi moi\n"
     ]
    }
   ],
   "source": [
    "print('albert einstein da tung noi: mot nguoi khong bao gio mac sai lam khong bao gio thu bat ki dieu gi moi')"
   ]
  },
  {
   "cell_type": "code",
   "execution_count": 3,
   "id": "755d1903",
   "metadata": {},
   "outputs": [
    {
     "name": "stdout",
     "output_type": "stream",
     "text": [
      "9\n"
     ]
    }
   ],
   "source": [
    "import math_libs\n",
    "print(math_libs.add(4, 5))"
   ]
  },
  {
   "cell_type": "code",
   "execution_count": 1,
   "id": "d238621a",
   "metadata": {},
   "outputs": [
    {
     "name": "stdout",
     "output_type": "stream",
     "text": [
      " chao cac ban!\n",
      "Nguyen Phi Hung\n"
     ]
    }
   ],
   "source": [
    "print(' chao cac ban!')\n",
    "print('Nguyen Phi Hung')"
   ]
  }
 ],
 "metadata": {
  "kernelspec": {
   "display_name": ".venv",
   "language": "python",
   "name": "python3"
  },
  "language_info": {
   "codemirror_mode": {
    "name": "ipython",
    "version": 3
   },
   "file_extension": ".py",
   "mimetype": "text/x-python",
   "name": "python",
   "nbconvert_exporter": "python",
   "pygments_lexer": "ipython3",
   "version": "3.12.7"
  }
 },
 "nbformat": 4,
 "nbformat_minor": 5
}
