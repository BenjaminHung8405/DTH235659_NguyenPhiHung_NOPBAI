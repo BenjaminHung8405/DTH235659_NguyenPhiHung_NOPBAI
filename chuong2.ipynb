{
 "cells": [
  {
   "cell_type": "markdown",
   "id": "2ed041a6",
   "metadata": {},
   "source": [
    "## Bài 1: Tính chu vi và diện tích hình tròn\n",
    "Yêu cầu: Nhập bán kính `r`. Tính và xuất chu vi và diện tích tương ứng."
   ]
  },
  {
   "cell_type": "code",
   "execution_count": 2,
   "id": "fc1eac31",
   "metadata": {},
   "outputs": [],
   "source": [
    "# Bài 1: tính chu vi và diện tích hình tròn\n",
    "import math\n",
    "\n",
    "def bai1():\n",
    "    try:\n",
    "        r = float(input('Mời bạn nhập bán kính hình tròn: '))\n",
    "        cv = 2 * math.pi * r\n",
    "        dt = math.pi * r ** 2\n",
    "        print(f'Chu vi = {cv}')\n",
    "        print(f'Diện tích = {dt}')\n",
    "    except Exception as e:\n",
    "        print('Lỗi rồi!:', e)\n",
    "\n",
    "# bai1()"
   ]
  },
  {
   "cell_type": "markdown",
   "id": "3393b109",
   "metadata": {},
   "source": [
    "## Bài 2: Chuyển số giây thành Giờ:Phút:Giây (và AM/PM)\n",
    "Yêu cầu: Nhập số giây `t`. Xuất dưới dạng `Giờ:Phút:Giây` kèm AM/PM."
   ]
  },
  {
   "cell_type": "code",
   "execution_count": 4,
   "id": "e777334c",
   "metadata": {},
   "outputs": [],
   "source": [
    "# Bài 2: chuyển số giây sang giờ:phút:giây và AM/PM\n",
    "def bai2():\n",
    "    try:\n",
    "        t = int(input('Nhập số giây: '))\n",
    "        t = t % (24 * 3600)  # chuẩn hóa trong một ngày\n",
    "        hour = (t // 3600) % 24\n",
    "        minute = (t % 3600) // 60\n",
    "        second = t % 60\n",
    "        ampm = 'AM' if hour < 12 else 'PM'\n",
    "        hour12 = hour % 12\n",
    "        if hour12 == 0:\n",
    "            hour12 = 12\n",
    "        print(f\"{hour12}:{minute}:{second} {ampm}\")\n",
    "    except Exception as e:\n",
    "        print('Lỗi:', e)\n",
    "\n",
    "# bai2()"
   ]
  },
  {
   "cell_type": "markdown",
   "id": "07b470bd",
   "metadata": {},
   "source": [
    "## Bài 3: Tính điểm trung bình\n",
    "Yêu cầu: Nhập điểm Toán, Lý, Hóa. In điểm trung bình với 2 chữ số thập phân."
   ]
  },
  {
   "cell_type": "code",
   "execution_count": null,
   "id": "4e5a7d37",
   "metadata": {},
   "outputs": [],
   "source": [
    "# Bài 3: tính điểm trung bình\n",
    "def bai3():\n",
    "    try:\n",
    "        toan = float(input('Nhập điểm Toán: '))\n",
    "        ly = float(input('Nhập điểm Lý: '))\n",
    "        hoa = float(input('Nhập điểm Hóa: '))\n",
    "        dtb = (toan + ly + hoa) / 3\n",
    "        print('Điểm trung bình =', round(dtb, 2))\n",
    "    except Exception as e:\n",
    "        print('Lỗi:', e)\n",
    "\n",
    "# bai3()"
   ]
  },
  {
   "cell_type": "markdown",
   "id": "1d8e43d1",
   "metadata": {},
   "source": [
    "## Bài 4: Python hỗ trợ những kiểu dữ liệu cơ bản nào?\n",
    "Trả lời (tóm tắt): int, float, complex, bool, str, bytes, list, tuple, set, dict, NoneType."
   ]
  },
  {
   "cell_type": "markdown",
   "id": "cff161d9",
   "metadata": {},
   "source": [
    "## Bài 5: Các loại ghi chú trong Python\n",
    "- Ghi chú một dòng: bắt đầu bằng `#`\n",
    "- Chuỗi nhiều dòng (docstring): `'''...'''` hoặc `\"\"\"...\"\"\"`."
   ]
  },
  {
   "cell_type": "markdown",
   "id": "107d7715",
   "metadata": {},
   "source": [
    "## Bài 6: Ý nghĩa toán tử /, //, %, **, and, or, is\n",
    "- `/` : chia thực (kết quả float).\n",
    "- `//`: chia lấy phần nguyên (floor division).\n",
    "- `%` : phần dư (modulus).\n",
    "- `**`: lũy thừa.\n",
    "- `and`, `or`: toán tử logic.\n",
    "- `is`: so sánh danh tính (identity)."
   ]
  },
  {
   "cell_type": "markdown",
   "id": "86fde67d",
   "metadata": {},
   "source": [
    "## Bài 7: Một số cách nhập dữ liệu từ bàn phím\n",
    "- `input()` trả về chuỗi; chuyển kiểu bằng `int()`, `float()`, `split()` + `map()`.\n",
    "- `sys.stdin` để đọc luồng khi cần.\n",
    "- Tránh `eval(input())` nếu không kiểm soát dữ liệu."
   ]
  },
  {
   "cell_type": "markdown",
   "id": "23fd9c79",
   "metadata": {},
   "source": [
    "## Bài 8: Các loại lỗi và cách bắt lỗi trong Python\n",
    "- Lỗi cú pháp (SyntaxError).\n",
    "- Lỗi thời chạy (ZeroDivisionError, TypeError, ValueError, ...).\n",
    "- Lỗi logic.\n",
    "Cách bắt lỗi: `try` / `except` / `finally`, và `raise` khi cần."
   ]
  },
  {
   "cell_type": "markdown",
   "id": "a948b296",
   "metadata": {},
   "source": [
    "## Bài 9: Giải thích kết quả tính toán của các biểu thức\n",
    "Cho các biến:\n",
    "\n",
    "```python\n",
    "i1 = 2\n",
    "i2 = 5\n",
    "i3 = -3\n",
    "d1 = 2.0\n",
    "d2 = 5.0\n",
    "d3 = -0.5\n",
    "```\n",
    "Hàm dưới sẽ in kết quả từng biểu thức kèm lời giải thích ngắn."
   ]
  },
  {
   "cell_type": "code",
   "execution_count": null,
   "id": "516f5bca",
   "metadata": {},
   "outputs": [],
   "source": [
    "# Bài 9: tính và giải thích các biểu thức (i3 = -3)\n",
    "i1 = 2\n",
    "i2 = 5\n",
    "i3 = -3\n",
    "d1 = 2.0\n",
    "d2 = 5.0\n",
    "d3 = -0.5\n",
    "\n",
    "exprs = [\n",
    "    ('(a) i1 + (i2 * i3)', i1 + (i2 * i3), 'i2 * i3 thực hiện trước, sau đó cộng i1'),\n",
    "    ('(b) i1 * (i2 + i3)', i1 * (i2 + i3), 'i2 + i3 trước, sau đó nhân i1'),\n",
    "    ('(c) i1 / (i2 + i3)', None if (i2 + i3) == 0 else i1 / (i2 + i3), 'chia thực (/ trả về float)'),\n",
    "    ('(d) i1 // (i2 + i3)', None if (i2 + i3) == 0 else i1 // (i2 + i3), 'chia lấy phần nguyên (//)'),\n",
    "    ('(e) i1 / i2 + i3', i1 / i2 + i3, '/ trả về float, rồi cộng i3'),\n",
    "    ('(f) i1 // i2 + i3', i1 // i2 + i3, 'i1//i2 lấy phần nguyên, rồi cộng i3'),\n",
    "    ('(g) 3 + 4 + 5/3', 3 + 4 + 5/3, '5/3 là float'),\n",
    "    ('(h) 3 + 4 + 5//3', 3 + 4 + 5//3, '5//3 = 1 (phần nguyên)'),\n",
    "    ('(i) (3 + 4 + 5) / 3', (3 + 4 + 5) / 3, 'tổng chia 3, kết quả float'),\n",
    "    ('(j) (3 + 4 + 5) // 3', (3 + 4 + 5) // 3, 'tổng chia lấy phần nguyên'),\n",
    "    ('(k) d1 + (d2 * d3)', d1 + (d2 * d3), 'd2 * d3 trước, d1 là float'),\n",
    "    ('(l) d1 + d2 * d3', d1 + d2 * d3, 'theo thứ tự ưu tiên toán học'),\n",
    "    ('(m) d1 / d2 - d3', d1 / d2 - d3, 'd1/d2 trước, sau đó trừ d3'),\n",
    "    ('(n) d1 / (d2 - d3)', d1 / (d2 - d3), 'chia theo (d2 - d3)'),\n",
    "    ('(o) d1 + d2 + d3 / 3', d1 + d2 + d3 / 3, 'd3/3 trước, rồi cộng d1,d2'),\n",
    "    ('(p) (d1 + d2 + d3) / 3', (d1 + d2 + d3) / 3, 'tổng chia 3'),\n",
    "    ('(q) d1 + d2 + (d3 / 3)', d1 + d2 + (d3 / 3), 'tương tự o'),\n",
    "    ('(r) 3 * (d1 + d2) * (d1 - d3)', 3 * (d1 + d2) * (d1 - d3), 'nhân các biểu thức trong ngoặc')\n",
    "]\n",
    "\n",
    "for tag, val, note in exprs:\n",
    "    if val is None:\n",
    "        print(f'{tag}: không thể tính (chia cho 0) - {note}')\n",
    "    else:\n",
    "        print(f'{tag}: {val} -- {note}')\n"
   ]
  },
  {
   "cell_type": "markdown",
   "id": "bca881f1",
   "metadata": {},
   "source": [
    "## Bài 10: Viết ngắn gọn lại các lệnh\n",
    "Yêu cầu: Cho các lệnh ban đầu, hãy viết lại dùng toán tử gán rút gọn."
   ]
  },
  {
   "cell_type": "code",
   "execution_count": null,
   "id": "a0a632c5",
   "metadata": {},
   "outputs": [
    {
     "ename": "",
     "evalue": "",
     "output_type": "error",
     "traceback": [
      "\u001b[1;31mRunning cells with 'Python 3.12.7' requires the ipykernel package.\n",
      "\u001b[1;31mInstall 'ipykernel' into the Python environment. \n",
      "\u001b[1;31mCommand: '/bin/python3 -m pip install ipykernel -U --user --force-reinstall'"
     ]
    }
   ],
   "source": [
    "# Bài 10: Viết ngắn gọn lại các lệnh và in kết quả rút gọn\n",
    "# Các lệnh gốc và dạng rút gọn tương ứng:\n",
    "answers = {\n",
    "    '(a) x = x + 1': 'x += 1',\n",
    "    '(b) x = x / 2': 'x /= 2',\n",
    "    '(c) x = x - 1': 'x -= 1',\n",
    "    '(d) x = x + y': 'x += y',\n",
    "    '(e) x = x - (y + 7)': 'x -= (y + 7)',\n",
    "    '(f) x = 2 * x': 'x *= 2',\n",
    "    '(g) number_of_closed_cases = number_of_closed_cases + 2*ncc': 'number_of_closed_cases += 2 * ncc'\n",
    "}\n",
    "\n",
    "for orig, short in answers.items():\n",
    "    print(f'{orig}  ->  {short}')\n",
    "\n",
    "# Minh họa chạy thực tế với giá trị mẫu:\n",
    "x = 10\n",
    "y = 3\n",
    "ncc = 4\n",
    "number_of_closed_cases = 5\n",
    "print('Minh họa trước khi rút gọn: x=', 10, 'number_of_closed_cases=', 5)\n",
    "x += 1\n",
    "x /= 2\n",
    "x -= 1\n",
    "x += y\n",
    "x -= (y + 7)\n",
    "x *= 2\n",
    "number_of_closed_cases += 2 * ncc\n",
    "print('Minh họa sau khi thực hiện các lệnh rút gọn: x =', x)\n",
    "print('number_of_closed_cases =', number_of_closed_cases)"
   ]
  },
  {
   "cell_type": "markdown",
   "id": "4f4151cb",
   "metadata": {},
   "source": [
    "---\n",
    "Kết thúc — bạn có thể chạy ô mã trên để xem kết quả. Nếu muốn, tôi có thể tách từng bài thành file `.py` riêng để dễ chạy từ terminal."
   ]
  }
 ],
 "metadata": {
  "kernelspec": {
   "display_name": ".venv",
   "language": "python",
   "name": "python3"
  },
  "language_info": {
   "codemirror_mode": {
    "name": "ipython",
    "version": 3
   },
   "file_extension": ".py",
   "mimetype": "text/x-python",
   "name": "python",
   "nbconvert_exporter": "python",
   "pygments_lexer": "ipython3",
   "version": "3.12.7"
  }
 },
 "nbformat": 4,
 "nbformat_minor": 5
}
